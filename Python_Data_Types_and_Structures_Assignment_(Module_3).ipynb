{
  "nbformat": 4,
  "nbformat_minor": 0,
  "metadata": {
    "colab": {
      "provenance": []
    },
    "kernelspec": {
      "name": "python3",
      "display_name": "Python 3"
    },
    "language_info": {
      "name": "python"
    }
  },
  "cells": [
    {
      "cell_type": "markdown",
      "source": [
        "#Python Data Types and Structures Assignment (Module 3)"
      ],
      "metadata": {
        "id": "XaepotqwbdQC"
      }
    },
    {
      "cell_type": "markdown",
      "source": [
        "##Theory Questions and Answers"
      ],
      "metadata": {
        "id": "M0vveJGmcLwJ"
      }
    },
    {
      "cell_type": "markdown",
      "source": [
        "####Q1 What are data structures, and why are they important?\n",
        "\n",
        "####Answer:\n",
        "\n",
        "Data structures are ways of organizing and storing data in a computer so that it can be accessed and modified efficiently. They provide a means to manage large amounts of data for uses such as databases, operating systems, and software engineering.\n",
        "\n",
        "Data structure is important beacuse they:\n",
        "\n",
        "  - Enable efficient storage and retrieval of data.\n",
        "\n",
        "  - Improve the performance of programs and algorithms.\n",
        "\n",
        "  - Help organize data in a logical and usable format.\n",
        "\n",
        "  - Allow effective solutions to complex computational problems.\n",
        "\n",
        "  - Support reusable and scalable code development.\n",
        "\n",
        "  - Form the backbone of algorithms and system operations.\n",
        "\n",
        "  - Crucial for building software like databases and operating systems.\n",
        "\n",
        "  - Provide fast access and search capabilities (e.g., hash tables).\n"
      ],
      "metadata": {
        "id": "vlmRTTXBY6Oa"
      }
    },
    {
      "cell_type": "markdown",
      "source": [
        "####Q2. Explain the difference between mutable and immutable data types with examples.\n",
        "\n",
        "####Answer:\n",
        "\n"
      ],
      "metadata": {
        "id": "iOnfoSK7bYUS"
      }
    },
    {
      "cell_type": "markdown",
      "source": [
        "####Q3. What are the main differences between lists and tuples in Python?\n",
        "\n",
        "####Answer:\n",
        "\n",
        "In Python, lists and tuples are both used to store collections of items, but they have key differences. The most important distinction is that lists are mutable, meaning their contents can be changed (items can be added, removed, or modified), while tuples are immutable, so once they are created, their contents cannot be altered. Lists use square brackets [], whereas tuples use parentheses (). Because of their immutability, tuples are generally faster and more memory-efficient than lists. They also have fewer built-in methods compared to lists, which offer more flexibility and functions. Additionally, tuples can be used as keys in dictionaries (if they contain only immutable elements), but lists cannot. In general, use lists when your data may change, and use tuples for fixed collections of items where immutability and performance are important."
      ],
      "metadata": {
        "id": "YxdU8oP-choJ"
      }
    },
    {
      "cell_type": "markdown",
      "source": [
        "#### Q4.  Describe how dictionaries store data.\n",
        "\n",
        "#### Answer:\n",
        "\n",
        "A dictionary in Python is like a real-life dictionary — you look up a word (key) to find its meaning (value).\n",
        "\n",
        "  - A dictionary stores data in pairs: one part is the key, the other is the value.\n",
        "\n",
        "  - The key is like a label or name, and the value is the information attached to it.\n",
        "\n",
        "Example:\n",
        "\n",
        "    student = {\n",
        "         'name': 'Alice',\n",
        "         'age': 20,\n",
        "         'grade': 'A'\n",
        "          }\n",
        "\n",
        "Here:\n",
        "\n",
        "    'name' is a key, and 'Alice' is its value.\n",
        "\n",
        "    'age' is a key, and 20 is its value.\n",
        "\n",
        "    'grade' is a key, and 'A' is its value.\n",
        "\n",
        "Python uses a smart trick called a hash table inside the dictionary.\n",
        "This helps it quickly find the value just by knowing the key — like flipping to the right page in a dictionary instantly.\n",
        "\n",
        "  - A dictionary stores data as key-value pairs.\n",
        "\n",
        "  - We use the key to find the value.\n",
        "\n",
        "  - It's fast and easy to use.\n",
        "\n",
        "  - Keys must be unique and cannot be changed (like strings or numbers).\n",
        "\n",
        "  - Values can be anything — numbers, text, lists, even other dictionaries."
      ],
      "metadata": {
        "id": "NT4g6GrfdVFZ"
      }
    },
    {
      "cell_type": "markdown",
      "source": [
        "####Q5. Why might you use a set instead of a list in Python?\n",
        "\n",
        "#### Answer:\n",
        "\n",
        "We might choose to use a set instead of a list in Python when we want to store a collection of unique items. Unlike lists, sets automatically eliminate duplicate values, so we don’t have to manually check for and remove repeats. This makes sets very useful when uniqueness is important, like keeping track of distinct users or filtering out repeated entries from data.\n",
        "\n",
        "Another important reason to use sets is their speed when checking membership. If we need to frequently check whether an item exists in a collection, sets are much faster than lists. This is because sets use a hashing mechanism internally, allowing them to determine if an element is present in constant time on average, whereas lists require scanning through each element until a match is found, which takes longer.\n",
        "\n",
        "Sets also provide powerful operations that aren’t available with lists, such as union, intersection, and difference. These allow us to combine sets, find common elements, or subtract one set from another easily and efficiently. These operations are particularly handy when comparing datasets or performing tasks that involve groups of items.\n",
        "\n",
        "However, it’s important to note that sets are unordered — they don’t maintain the order of elements and don’t support indexing like lists do. So, if we need ordered data or want to access elements by position, lists are a better choice. But when we want a fast, unique collection of items with flexible mathematical set operations, sets are the ideal tool."
      ],
      "metadata": {
        "id": "cxdFcdEFdZQC"
      }
    },
    {
      "cell_type": "markdown",
      "source": [
        "#### Q6. What is a string in Python, and how is it different from a list?\n",
        "\n",
        "####Answer:\n",
        "\n",
        "A string in Python is a sequence of characters used to represent text. It is enclosed in either single quotes ('...'), double quotes (\"...\"), or triple quotes for multi-line text ('''...''' or \"\"\"...\"\"\"). Strings are immutable, which means once a string is created, its contents cannot be changed.\n",
        "\n",
        "A list, on the other hand, is a collection of items that can be of different data types (including strings). Lists are enclosed in square brackets [] and are mutable, so we can change their contents by adding, removing, or modifying elements.\n",
        "\n",
        "The main differences are:\n",
        "\n",
        "Mutability: Strings are immutable, lists are mutable.\n",
        "\n",
        "Content: Strings store characters, while lists store any type of elements.\n",
        "\n",
        "Operations: Strings support text-related operations like concatenation, slicing, and searching, while lists support operations like insertion, deletion, and sorting of elements.\n",
        "\n",
        "    my_string = \"hello\"\n",
        "    my_list = ['h', 'e', 'l', 'l', 'o']\n",
        "\n",
        "    # We can change the list\n",
        "    my_list[0] = 'H'  # ['H', 'e', 'l', 'l', 'o']\n",
        "\n",
        "    # But changing the string directly causes an error\n",
        "    # my_string[0] = 'H'  # This would raise an error\n",
        "\n",
        "In short, strings are for text data and cannot be changed, whereas lists are flexible containers for a variety of items that can be modified."
      ],
      "metadata": {
        "id": "YKo5BksmdmeY"
      }
    },
    {
      "cell_type": "markdown",
      "source": [
        "####Q7.  How do tuples ensure data integrity in Python?\n",
        "\n",
        "####Answer:\n",
        "\n",
        "Tuples help ensure data integrity in Python primarily because they are immutable. Once a tuple is created, its contents cannot be changed, added to, or removed. This immutability means the data inside a tuple remains constant throughout the program, preventing accidental or intentional modifications that might cause errors or inconsistent states.\n",
        "\n",
        "Because tuples are fixed and unchangeable, they are often used to store data that should remain consistent, such as coordinates, configuration settings, or records that should not be altered after creation. This makes tuples a reliable way to protect data integrity, especially when passing data between different parts of a program or when using them as keys in dictionaries (since only immutable objects can be dictionary keys).\n",
        "\n",
        "In summary, by making data unchangeable, tuples help preserve the integrity and stability of the information they hold throughout the execution of a program."
      ],
      "metadata": {
        "id": "xqxk4g7DdvDh"
      }
    },
    {
      "cell_type": "markdown",
      "source": [
        "####Q8. What is a hash table, and how does it relate to dictionaries in Python?\n",
        "\n",
        "####Answer:\n",
        "\n",
        "A hash table is a data structure that stores data in an efficient way by using a hash function to convert keys into specific locations (called buckets or indices) in an internal array. This process allows for very fast data retrieval, because instead of searching through all elements, the hash table can jump directly to the location where the data is stored.\n",
        "\n",
        "In Python, dictionaries are implemented using hash tables. When we add a key-value pair to a dictionary, Python computes the hash of the key and uses it to determine where to store the value in memory. This design enables dictionaries to provide very fast access, insertion, and deletion of items—usually in constant time (O(1)).\n",
        "\n",
        "Because dictionaries rely on hash tables, their keys must be hashable (meaning they have a hash value that does not change during their lifetime). Common hashable types include strings, numbers, and tuples with immutable elements.\n",
        "\n",
        "In summary, a hash table is the underlying data structure that makes Python dictionaries so efficient and powerful for storing and accessing data by keys quickly."
      ],
      "metadata": {
        "id": "vV2-Y7yOd3AB"
      }
    },
    {
      "cell_type": "markdown",
      "source": [
        "####Q9. Can lists contain different data types in Python?\n",
        "\n",
        "####Answer:\n",
        "\n",
        " lists in Python can contain different data types all in the same list. Python lists are very flexible and can hold a mix of integers, strings, floats, other lists, objects, or any combination of data types.\n",
        "\n",
        "For example:\n",
        "\n",
        "    my_list = [42, \"hello\", 3.14, True, [1, 2, 3]]\n",
        "\n",
        "    In this list:\n",
        "\n",
        "    42 is an integer,\n",
        "\n",
        "    \"hello\" is a string,\n",
        "\n",
        "    3.14 is a float,\n",
        "\n",
        "    True is a boolean,\n",
        "\n",
        "    [1, 2, 3] is another list (nested list).\n",
        "\n",
        "\n",
        "This flexibility makes lists very useful for storing collections of related but different kinds of data in Python."
      ],
      "metadata": {
        "id": "09RyXp3vd9W4"
      }
    },
    {
      "cell_type": "markdown",
      "source": [
        "####Q10. Explain why strings are immutable in Python.\n",
        "\n",
        "####Answer:\n",
        "\n",
        "Strings are immutable in Python because once a string is created, its content cannot be changed. This design choice offers several important benefits:\n",
        "\n",
        "  1. Safety and Predictability: Since strings cannot be altered, we avoid accidental changes that could cause bugs or unexpected behavior in programs, especially when strings are shared across different parts of code.\n",
        "\n",
        "  2. Performance Optimization: Immutability allows Python to optimize memory usage. For example, multiple variables can safely reference the same string object without the risk of one changing it and affecting others.\n",
        "\n",
        "  3. Hashing and Use as Dictionary Keys: Because strings don’t change, they can be reliably hashed and used as keys in dictionaries or elements in sets. Mutable objects cannot be hashed safely.\n",
        "\n",
        "  4. Simplifies Implementation: Immutable strings make the internal workings of Python more straightforward and efficient, such as string interning (reusing identical string objects).\n",
        "\n",
        "If we want to change a string, Python creates a new string object with the desired modifications instead of modifying the original one.\n",
        "\n",
        "In short, string immutability helps make Python programs safer, faster, and more consistent."
      ],
      "metadata": {
        "id": "jk9vJVWreEEQ"
      }
    },
    {
      "cell_type": "markdown",
      "source": [
        "####Q11. What advantages do dictionaries offer over lists for certain tasks?\n",
        "\n",
        "####Answer:\n",
        "\n",
        "Dictionaries offer several advantages over lists for certain tasks, especially when we need to associate data with unique keys rather than just store ordered items. Here are the key benefits:\n",
        "\n",
        "  1. Fast Lookup by Key: Dictionaries provide constant-time (O(1)) access to values using keys, whereas searching for an item in a list can take longer (O(n)) because it may require scanning the whole list.\n",
        "\n",
        "  2. Clear Key-Value Association: Dictionaries store data as key-value pairs, making it easy to represent and access related information (e.g., a person’s name and age), while lists store only values without labels.\n",
        "\n",
        "  3. Uniqueness of Keys: Each key in a dictionary is unique, which naturally enforces uniqueness for that data dimension without extra checks, unlike lists where duplicate values are allowed and must be managed manually.\n",
        "\n",
        "  4. Flexible Data Access: We can access dictionary elements directly by meaningful keys (like \"email\" or \"id\"), making the code more readable and expressive compared to numeric indexing in lists.\n",
        "\n",
        "  5. Dynamic and Sparse Data: Dictionaries are ideal when data is sparse or when the number of elements is unknown or changes dynamically, as we can add or remove key-value pairs easily without worrying about order or position.\n",
        "\n",
        "In summary, dictionaries excel when fast, meaningful, and unique access to data is needed, while lists are better suited for ordered collections of items."
      ],
      "metadata": {
        "id": "ssTEe8aNeKs4"
      }
    },
    {
      "cell_type": "markdown",
      "source": [
        "####Q12.  Describe a scenario where using a tuple would be preferable over a list?\n",
        "\n",
        "####Answer:\n",
        "\n",
        "A scenario where using a tuple would be preferable over a list is when we need to store a collection of values that should never change throughout the program, ensuring data integrity and safety.\n",
        "\n",
        "For example, consider storing the coordinates of a point in a 2D space, like (x, y). Since the position of the point shouldn’t accidentally be modified after creation, using a tuple makes sense:\n",
        "\n",
        "    point = (10, 20)\n",
        "\n",
        "Because tuples are immutable, the values 10 and 20 cannot be changed later in the program, which helps prevent bugs caused by accidental modification. Also, if we want to use these coordinates as keys in a dictionary (e.g., mapping points to colors), tuples can be used since they are hashable, but lists cannot.\n",
        "\n",
        "In short, tuples are best when we want to store fixed, unchangeable data that should remain constant, providing both safety and potential performance benefits over lists."
      ],
      "metadata": {
        "id": "q0MS7V1DeUA5"
      }
    },
    {
      "cell_type": "markdown",
      "source": [
        "####Q13.  How do sets handle duplicate values in Python?\n",
        "\n",
        "####Answer:\n",
        "\n",
        "In Python, sets automatically handle duplicate values by ignoring them. When we add elements to a set, any duplicates are not stored—only unique values are kept.\n",
        "\n",
        "For example, if we create a set from a list with repeated items:\n",
        "\n",
        "    my_list = [1, 2, 2, 3, 3, 3]\n",
        "    my_set = set(my_list)\n",
        "    print(my_set)  # Output: {1, 2, 3}\n",
        "\n",
        "Here, even though the list has multiple 2s and 3s, the set stores only one instance of each number. This behavior happens because sets are designed to hold unordered collections of unique elements, making them ideal for tasks like removing duplicates from data.\n",
        "\n",
        "So, whenever we add a value to a set, Python checks if it’s already present—if yes, it doesn’t add it again. This automatic removal of duplicates is one of the key features that distinguishes sets from lists."
      ],
      "metadata": {
        "id": "bujlfsnWeduI"
      }
    },
    {
      "cell_type": "markdown",
      "source": [
        "####Q14. How does the “in” keyword work differently for lists and dictionaries?\n",
        "\n",
        "####Answer\n",
        "\n",
        "The 'in' keyword works differently for lists and dictionaries in Python because of how these data structures are organized:\n",
        "\n",
        "For lists:\n",
        "\n",
        "The 'in' keyword checks if a value exists anywhere in the list.\n",
        "\n",
        "It searches sequentially, going through each item until it finds a match or reaches the end.\n",
        "\n",
        "This means the time it takes depends on the list size (linear time, O(n)).\n",
        "\n",
        "Example:\n",
        "\n",
        "    my_list = [10, 20, 30]\n",
        "    print(20 in my_list)  # True (searches all items until it finds 20)\n",
        "\n",
        "For dictionaries:\n",
        "\n",
        "The 'in' keyword checks if a key exists in the dictionary (not the values).\n",
        "\n",
        "It uses the dictionary’s hash table to quickly find the key.\n",
        "\n",
        "This makes the lookup very fast, usually constant time (O(1)) regardless of dictionary size.\n",
        "\n",
        "Example:\n",
        "\n",
        "    my_dict = {'a': 1, 'b': 2}\n",
        "    print('a' in my_dict)  # True (checks keys, not values)\n",
        "    print(1 in my_dict)    # False (1 is a value, not a key)\n",
        "\n",
        "Summary:\n",
        "\n",
        "'in' checks values in lists by scanning each item (slower for large lists).\n",
        "\n",
        "'in' checks keys in dictionaries using hashing (much faster).\n",
        "\n",
        "If we want to check for values in a dictionary, we’d use:\n",
        "\n",
        "    value = 2\n",
        "    print(value in my_dict.values())  # True if value exists"
      ],
      "metadata": {
        "id": "JheZLXsSelJg"
      }
    },
    {
      "cell_type": "markdown",
      "source": [
        "####Q15. Can you modify the elements of a tuple? Explain why or why not?\n",
        "\n",
        "####Answer:\n",
        "\n",
        "We cannot modify the elements of a tuple in Python because tuples are immutable. This means once a tuple is created, its contents are fixed and cannot be changed—no adding, removing, or updating elements.\n",
        "\n",
        "The reason for this immutability is that tuples are designed to be a fixed collection of values. This property makes them reliable for representing data that should remain constant throughout a program, such as coordinates, configuration settings, or keys in dictionaries.\n",
        "\n",
        "If we need a similar collection but want to modify elements, we should use a list instead, which is mutable.\n",
        "\n",
        "Example:\n",
        "\n",
        "    my_tuple = (1, 2, 3)\n",
        "    # Trying to change an element will cause an error:\n",
        "    # my_tuple[0] = 10  # Raises TypeError: 'tuple' object does not support item assignment\n",
        "\n",
        "In summary, tuples cannot be modified because Python enforces their immutability to ensure data integrity and consistent behavior."
      ],
      "metadata": {
        "id": "7kWzsnf-etxQ"
      }
    },
    {
      "cell_type": "markdown",
      "source": [
        "####Q16. What is a nested dictionary, and give an example of its use case?\n",
        "\n",
        "####Answer:\n",
        "\n",
        "A nested dictionary in Python is a dictionary where one or more of its values are themselves dictionaries. This allows us to represent more complex, hierarchical data structures by organizing information in multiple layers.\n",
        "\n",
        "Example Use Case:\n",
        "Imagine we want to store information about multiple students, where each student has details like their age, grade, and contact info. A nested dictionary is perfect for this:\n",
        "\n",
        "    students = {\n",
        "    'Alice': {\n",
        "        'age': 20,\n",
        "        'grade': 'A',\n",
        "        'contact': {\n",
        "            'email': 'alice@example.com',\n",
        "            'phone': '123-456-7890'\n",
        "        }\n",
        "    },\n",
        "    'Bob': {\n",
        "        'age': 22,\n",
        "        'grade': 'B',\n",
        "        'contact': {\n",
        "            'email': 'bob@example.com',\n",
        "            'phone': '987-654-3210'\n",
        "        }\n",
        "    }\n",
        "    }\n",
        "\n",
        "Here, the outer dictionary’s keys are student names, and each value is another dictionary containing their personal details and contact information.\n",
        "\n",
        "Why Use Nested Dictionaries?\n",
        "  - To organize related data hierarchically.\n",
        "\n",
        "  - To represent complex data structures (like JSON).\n",
        "\n",
        "  - To group multiple attributes under a single key."
      ],
      "metadata": {
        "id": "Hy6IjR2ge4Sw"
      }
    },
    {
      "cell_type": "markdown",
      "source": [
        "####Q17. Describe the time complexity of accessing elements in a dictionary?\n",
        "\n",
        "####Answer:\n",
        "\n",
        "Accessing elements in a dictionary generally has a time complexity of O(1), which means it happens in constant time on average. This efficiency is because dictionaries in Python are implemented using hash tables.\n",
        "\n",
        "When we look up a value by its key, Python computes a hash of the key to quickly find the location where the value is stored, so it doesn’t have to search through all items. This hashing mechanism makes dictionary lookups very fast, regardless of how large the dictionary is.\n",
        "\n",
        "However, in rare cases where many keys produce the same hash (called a hash collision), the lookup time can degrade to O(n), where n is the number of items in the dictionary. But Python’s implementation handles collisions efficiently to keep this uncommon.\n",
        "\n",
        "Summary:\n",
        "\n",
        "  - Average case: O(1) — constant time lookup.\n",
        "\n",
        "  - Worst case (rare): O(n) — linear time due to hash collisions.\n",
        "  \n",
        "\n",
        "This fast access is one of the main reasons dictionaries are widely used for storing and retrieving data by keys."
      ],
      "metadata": {
        "id": "shX6NdRre-uB"
      }
    },
    {
      "cell_type": "markdown",
      "source": [
        "####Q18. In what situations are lists preferred over dictionaries?\n",
        "\n",
        "####Answer:\n",
        "\n",
        "Lists are preferred over dictionaries in situations where:\n",
        "\n",
        "1. Order Matters: When we need to maintain the order of items, lists preserve the sequence of elements, while dictionaries (before Python 3.7) didn’t guarantee order (though now they do, lists are still simpler for ordered sequences).\n",
        "\n",
        "2. Index-Based Access: When we want to access elements by their position (index) rather than by a key, lists are ideal because they support direct access via numeric indices (e.g., my_list[0]).\n",
        "\n",
        "3. Simple Collections of Items: For storing a straightforward collection of items without the need for key-value pairs, lists are simpler and more intuitive.\n",
        "\n",
        "4. Allowing Duplicate Elements: Lists allow duplicates freely, which is useful when duplicates are meaningful or expected (while dictionary keys must be unique).\n",
        "\n",
        "5. Iteration in a Specific Sequence: When we want to process elements one by one in the order they were added, lists make it easy to loop through elements sequentially.\n",
        "\n",
        "Examples:\n",
        "\n",
        "  - A list of student names: [\"Alice\", \"Bob\", \"Charlie\"]\n",
        "\n",
        "  - A sequence of timestamps or measurements in order\n",
        "\n",
        "  - A stack or queue data structure where order and duplicates matter\n",
        "\n",
        "\n"
      ],
      "metadata": {
        "id": "mhyU_rTBfFmx"
      }
    },
    {
      "cell_type": "markdown",
      "source": [
        "####Q19. Why are dictionaries considered unordered, and how does that affect data retrieval?\n",
        "\n",
        "####Answer:\n",
        "\n",
        "Dictionaries are considered unordered because they store data as key-value pairs without maintaining any guaranteed order of those pairs. This means the way data is stored internally is optimized for fast lookup and retrieval by keys, not for preserving the sequence in which items were added.\n",
        "\n",
        "Because of this unordered nature, when we retrieve or iterate over a dictionary’s items, the order in which the key-value pairs appear is not guaranteed to match the order they were inserted. This can affect tasks where the order of data matters, making dictionaries less suitable if we rely on a specific sequence.\n",
        "\n",
        "In summary, dictionaries focus on efficient access by key rather than maintaining order, so when order is important, other data structures like lists or specialized ordered dictionaries might be preferred."
      ],
      "metadata": {
        "id": "yhnfMnjbfL4I"
      }
    },
    {
      "cell_type": "markdown",
      "source": [
        "####Q20.  Explain the difference between a list and a dictionary in terms of data retrieval?\n",
        "\n",
        "####Answer:\n",
        "\n",
        "The main difference between a list and a dictionary in terms of data retrieval lies in how we access the stored data:\n",
        "\n",
        "List:\n",
        "  - Data is accessed by position (index).\n",
        "\n",
        "  - Retrieval uses numeric indices starting from 0.\n",
        "\n",
        "  - To get an element, we use its index:\n",
        "\n",
        "        my_list = ['apple', 'banana', 'cherry']\n",
        "        print(my_list[1])  # Output: banana\n",
        "  - Accessing an item requires knowing its position.\n",
        "\n",
        "  - Searching for a value (if index unknown) requires scanning through elements, which can take longer (linear time).\n",
        "\n",
        "Dictionary:\n",
        "\n",
        "  - Data is accessed by unique keys.\n",
        "\n",
        "  - Retrieval uses a key-value pair system.\n",
        "\n",
        "  - To get a value, we use its key:\n",
        "\n",
        "        my_dict = {'a': 'apple', 'b': 'banana', 'c': 'cherry'}\n",
        "        print(my_dict['b'])  # Output: banana\n",
        "  - Keys are usually descriptive, making retrieval more intuitive.\n",
        "\n",
        "  - Dictionary lookup is very fast (constant time) because of hashing, regardless of the number of items.\n",
        "\n",
        "\n",
        "\n"
      ],
      "metadata": {
        "id": "mE1Z6dUBfSD5"
      }
    },
    {
      "cell_type": "markdown",
      "source": [
        "## Practical Questions and Answers"
      ],
      "metadata": {
        "id": "GLghbf9lf-9J"
      }
    },
    {
      "cell_type": "markdown",
      "source": [
        "####Q1. Write a code to create a string with your name and print it?\n",
        "\n",
        "####Answer:\n",
        "\n"
      ],
      "metadata": {
        "id": "ihwsXDUigEBJ"
      }
    },
    {
      "cell_type": "code",
      "source": [
        "# Create a string with my name\n",
        "my_name = \"Prabhath Borkar P\"\n",
        "\n",
        "# Print the string\n",
        "print(\"My name is:\", my_name)"
      ],
      "metadata": {
        "colab": {
          "base_uri": "https://localhost:8080/"
        },
        "id": "Z1uw4dXc8LfL",
        "outputId": "2b006e51-bdd8-461a-f476-d3e3740b8f70"
      },
      "execution_count": 1,
      "outputs": [
        {
          "output_type": "stream",
          "name": "stdout",
          "text": [
            "My name is: Prabhath Borkar P\n"
          ]
        }
      ]
    },
    {
      "cell_type": "markdown",
      "source": [
        "####Q2.  Write a code to find the length of the string \"Hello World\".\n",
        "\n",
        "####Answer:"
      ],
      "metadata": {
        "id": "5jiwtqwIgKrA"
      }
    },
    {
      "cell_type": "code",
      "source": [
        "# Define the string\n",
        "text = \"Hello World\"\n",
        "\n",
        "# Find and print the length\n",
        "length = len(text)\n",
        "print(\"Length of the string is:\", length)"
      ],
      "metadata": {
        "colab": {
          "base_uri": "https://localhost:8080/"
        },
        "id": "JnD75ZSp8rdj",
        "outputId": "57192e84-4ba2-46f0-df70-ec6edbe87ca2"
      },
      "execution_count": 3,
      "outputs": [
        {
          "output_type": "stream",
          "name": "stdout",
          "text": [
            "Length of the string is: 11\n"
          ]
        }
      ]
    },
    {
      "cell_type": "markdown",
      "source": [
        "####Q3. Write a code to slice the first 3 characters from the string \"Python Programming\".\n",
        "\n",
        "####Answer:"
      ],
      "metadata": {
        "id": "Ch1J68IggMsB"
      }
    },
    {
      "cell_type": "code",
      "source": [
        "# Define the string\n",
        "text = \"Python Programming\"\n",
        "\n",
        "# Slice the first 3 characters\n",
        "sliced_text = text[:3]\n",
        "\n",
        "# Print the result\n",
        "print(\"First 3 characters:\", sliced_text)"
      ],
      "metadata": {
        "colab": {
          "base_uri": "https://localhost:8080/"
        },
        "id": "Vc3ocqCf939m",
        "outputId": "11e52bf0-b454-4c77-af04-dcefae02677e"
      },
      "execution_count": 4,
      "outputs": [
        {
          "output_type": "stream",
          "name": "stdout",
          "text": [
            "First 3 characters: Pyt\n"
          ]
        }
      ]
    },
    {
      "cell_type": "markdown",
      "source": [
        "####Q4. Write a code to convert the string \"hello\" to uppercase.\n",
        "\n",
        "####Answer:"
      ],
      "metadata": {
        "id": "bSYJ4kkxgOch"
      }
    },
    {
      "cell_type": "code",
      "source": [
        "# Define the string\n",
        "text = \"hello\"\n",
        "\n",
        "# Convert to uppercase\n",
        "upper_text = text.upper()\n",
        "\n",
        "# Print the result\n",
        "print(\"Uppercase:\", upper_text)"
      ],
      "metadata": {
        "colab": {
          "base_uri": "https://localhost:8080/"
        },
        "id": "Lx5jex9E-KI8",
        "outputId": "bacd487a-1516-4eea-a680-42acb78607cf"
      },
      "execution_count": 5,
      "outputs": [
        {
          "output_type": "stream",
          "name": "stdout",
          "text": [
            "Uppercase: HELLO\n"
          ]
        }
      ]
    },
    {
      "cell_type": "markdown",
      "source": [
        "####Q5. Write a code to replace the word \"apple\" with \"orange\" in the string \"I like apple\".\n",
        "\n",
        "####Answer:"
      ],
      "metadata": {
        "id": "yGb03yyBgQZ4"
      }
    },
    {
      "cell_type": "code",
      "source": [
        "# Define the string\n",
        "text = \"I like apple\"\n",
        "\n",
        "# Replace 'apple' with 'orange'\n",
        "new_text = text.replace(\"apple\", \"orange\")\n",
        "\n",
        "# Print the result\n",
        "print(\"Updated string:\", new_text)"
      ],
      "metadata": {
        "colab": {
          "base_uri": "https://localhost:8080/"
        },
        "id": "gTq8Ql9a-d60",
        "outputId": "c3ba0fe5-2378-4708-97ed-f118fe3daf28"
      },
      "execution_count": 6,
      "outputs": [
        {
          "output_type": "stream",
          "name": "stdout",
          "text": [
            "Updated string: I like orange\n"
          ]
        }
      ]
    },
    {
      "cell_type": "markdown",
      "source": [
        "####Q6. Write a code to create a list with numbers 1 to 5 and print it.\n",
        "\n",
        "####Answer:"
      ],
      "metadata": {
        "id": "b054hqQhgTNA"
      }
    },
    {
      "cell_type": "code",
      "source": [
        "# Create a list with numbers 1 to 5\n",
        "numbers = [1, 2, 3, 4, 5]\n",
        "\n",
        "# Print the list\n",
        "print(\"List of numbers:\", numbers)"
      ],
      "metadata": {
        "colab": {
          "base_uri": "https://localhost:8080/"
        },
        "id": "Tyvt_BS--sl0",
        "outputId": "d750568b-38b3-42fb-cda3-78651a97d28e"
      },
      "execution_count": 7,
      "outputs": [
        {
          "output_type": "stream",
          "name": "stdout",
          "text": [
            "List of numbers: [1, 2, 3, 4, 5]\n"
          ]
        }
      ]
    },
    {
      "cell_type": "markdown",
      "source": [
        "####Q7.  Write a code to append the number 10 to the list [1, 2, 3, 4].\n",
        "\n",
        "####Answer:"
      ],
      "metadata": {
        "id": "452A7w8QgU3h"
      }
    },
    {
      "cell_type": "code",
      "source": [
        "# Define the list\n",
        "numbers = [1, 2, 3, 4]\n",
        "\n",
        "# Append 10 to the list\n",
        "numbers.append(10)\n",
        "\n",
        "# Print the updated list\n",
        "print(\"Updated list:\", numbers)"
      ],
      "metadata": {
        "colab": {
          "base_uri": "https://localhost:8080/"
        },
        "id": "CB_EH7m4-1jD",
        "outputId": "52c8bd5b-8b66-46aa-d162-8d56f24162f3"
      },
      "execution_count": 8,
      "outputs": [
        {
          "output_type": "stream",
          "name": "stdout",
          "text": [
            "Updated list: [1, 2, 3, 4, 10]\n"
          ]
        }
      ]
    },
    {
      "cell_type": "markdown",
      "source": [
        "####Q8. Write a code to remove the number 3 from the list [1, 2, 3, 4, 5].\n",
        "\n",
        "####Answer:"
      ],
      "metadata": {
        "id": "q6eUdqpRgXDg"
      }
    },
    {
      "cell_type": "code",
      "source": [
        "# Define the list\n",
        "numbers = [1, 2, 3, 4, 5]\n",
        "\n",
        "# Remove the number 3\n",
        "numbers.remove(3)\n",
        "\n",
        "# Print the updated list\n",
        "print(\"Updated list:\", numbers)"
      ],
      "metadata": {
        "colab": {
          "base_uri": "https://localhost:8080/"
        },
        "id": "2yJJoj79_HHt",
        "outputId": "657fb39f-f864-40d0-9538-49b4ad9ef0d3"
      },
      "execution_count": 9,
      "outputs": [
        {
          "output_type": "stream",
          "name": "stdout",
          "text": [
            "Updated list: [1, 2, 4, 5]\n"
          ]
        }
      ]
    },
    {
      "cell_type": "markdown",
      "source": [
        "####Q9. Write a code to access the second element in the list ['a', 'b', 'c', 'd'].\n",
        "\n",
        "####Answer:"
      ],
      "metadata": {
        "id": "-BfwD8LFgZO4"
      }
    },
    {
      "cell_type": "code",
      "source": [
        "# Define the list\n",
        "letters = ['a', 'b', 'c', 'd']\n",
        "\n",
        "# Access the second element (index 1)\n",
        "second_element = letters[1]\n",
        "\n",
        "# Print the result\n",
        "print(\"Second element:\", second_element)"
      ],
      "metadata": {
        "colab": {
          "base_uri": "https://localhost:8080/"
        },
        "id": "2LCe2QMQ_VlE",
        "outputId": "83906e8b-7096-4a6d-a52a-697d8680e452"
      },
      "execution_count": 10,
      "outputs": [
        {
          "output_type": "stream",
          "name": "stdout",
          "text": [
            "Second element: b\n"
          ]
        }
      ]
    },
    {
      "cell_type": "markdown",
      "source": [
        "####Q10. Write a code to reverse the list [10, 20, 30, 40, 50].\n",
        "\n",
        "####Answer:"
      ],
      "metadata": {
        "id": "WFn6c6TygbYS"
      }
    },
    {
      "cell_type": "code",
      "source": [
        "# Define the list\n",
        "numbers = [10, 20, 30, 40, 50]\n",
        "\n",
        "# Reverse the list\n",
        "numbers.reverse()\n",
        "\n",
        "# Print the reversed list\n",
        "print(\"Reversed list:\", numbers)"
      ],
      "metadata": {
        "colab": {
          "base_uri": "https://localhost:8080/"
        },
        "id": "4r-yJRlf_bI0",
        "outputId": "9cb2b45d-80d4-4f24-e988-0b0b4e8a95eb"
      },
      "execution_count": 11,
      "outputs": [
        {
          "output_type": "stream",
          "name": "stdout",
          "text": [
            "Reversed list: [50, 40, 30, 20, 10]\n"
          ]
        }
      ]
    },
    {
      "cell_type": "markdown",
      "source": [
        "####Q11. Write a code to create a tuple with the elements 100, 200, 300 and print it.\n",
        "\n",
        "####Answer:"
      ],
      "metadata": {
        "id": "nve8Qex4gdLA"
      }
    },
    {
      "cell_type": "code",
      "source": [
        "# Create a tuple\n",
        "my_tuple = (100, 200, 300)\n",
        "\n",
        "# Print the tuple\n",
        "print(\"Tuple:\", my_tuple)"
      ],
      "metadata": {
        "colab": {
          "base_uri": "https://localhost:8080/"
        },
        "id": "9jivnQoh_q2s",
        "outputId": "8f784d8c-3228-4724-9ee8-36a18f19c145"
      },
      "execution_count": 12,
      "outputs": [
        {
          "output_type": "stream",
          "name": "stdout",
          "text": [
            "Tuple: (100, 200, 300)\n"
          ]
        }
      ]
    },
    {
      "cell_type": "markdown",
      "source": [
        "####Q12. Write a code to access the second-to-last element of the tuple ('red', 'green', 'blue', 'yellow').\n",
        "\n",
        "####Answer:"
      ],
      "metadata": {
        "id": "DSig7dzWgeuI"
      }
    },
    {
      "cell_type": "code",
      "source": [
        "# Define the tuple\n",
        "colors = ('red', 'green', 'blue', 'yellow')\n",
        "\n",
        "# Access the second-to-last element using negative indexing\n",
        "second_last = colors[-2]\n",
        "\n",
        "# Print the result\n",
        "print(\"Second-to-last element:\", second_last)"
      ],
      "metadata": {
        "colab": {
          "base_uri": "https://localhost:8080/"
        },
        "id": "NOV_cfwl_-Rk",
        "outputId": "d3dbfcf3-123a-45f1-a501-2bce1fe20813"
      },
      "execution_count": 13,
      "outputs": [
        {
          "output_type": "stream",
          "name": "stdout",
          "text": [
            "Second-to-last element: blue\n"
          ]
        }
      ]
    },
    {
      "cell_type": "markdown",
      "source": [
        "####Q13.  Write a code to find the minimum number in the tuple (10, 20, 5, 15).\n",
        "\n",
        "####Answer:"
      ],
      "metadata": {
        "id": "vRQeyfXfgiwR"
      }
    },
    {
      "cell_type": "code",
      "source": [
        "# Define the tuple\n",
        "numbers = (10, 20, 5, 15)\n",
        "\n",
        "# Find the minimum number\n",
        "min_value = min(numbers)\n",
        "\n",
        "# Print the result\n",
        "print(\"Minimum number:\", min_value)"
      ],
      "metadata": {
        "colab": {
          "base_uri": "https://localhost:8080/"
        },
        "id": "3OrQa3u2AMGs",
        "outputId": "b569ac17-e700-4ff8-b7d2-b0c6cd423006"
      },
      "execution_count": 14,
      "outputs": [
        {
          "output_type": "stream",
          "name": "stdout",
          "text": [
            "Minimum number: 5\n"
          ]
        }
      ]
    },
    {
      "cell_type": "markdown",
      "source": [
        "####Q14. Write a code to find the index of the element \"cat\" in the tuple ('dog', 'cat', 'rabbit').\n",
        "\n",
        "####Answer:"
      ],
      "metadata": {
        "id": "-AHkKAIjgkJx"
      }
    },
    {
      "cell_type": "code",
      "source": [
        "# Define the tuple\n",
        "animals = ('dog', 'cat', 'rabbit')\n",
        "\n",
        "# Find the index of \"cat\"\n",
        "index_of_cat = animals.index('cat')\n",
        "\n",
        "# Print the result\n",
        "print(\"Index of 'cat':\", index_of_cat)"
      ],
      "metadata": {
        "colab": {
          "base_uri": "https://localhost:8080/"
        },
        "id": "kIUEipuLAVA8",
        "outputId": "6823d1a7-d56c-4d96-eafc-51276d8044c7"
      },
      "execution_count": 15,
      "outputs": [
        {
          "output_type": "stream",
          "name": "stdout",
          "text": [
            "Index of 'cat': 1\n"
          ]
        }
      ]
    },
    {
      "cell_type": "markdown",
      "source": [
        "####Q15. Write a code to create a tuple containing three different fruits and check if \"kiwi\" is in it.\n",
        "\n",
        "####Answer:"
      ],
      "metadata": {
        "id": "QxuvnkVMgmEo"
      }
    },
    {
      "cell_type": "code",
      "source": [
        "# Create a tuple with three fruits\n",
        "fruits = (\"apple\", \"banana\", \"orange\")\n",
        "\n",
        "# Check if \"kiwi\" is in the tuple\n",
        "if \"kiwi\" in fruits:\n",
        "    print(\"Kiwi is in the tuple.\")\n",
        "else:\n",
        "    print(\"Kiwi is not in the tuple.\")"
      ],
      "metadata": {
        "colab": {
          "base_uri": "https://localhost:8080/"
        },
        "id": "vuTbNP0vAfYM",
        "outputId": "69352a2c-79db-43e1-ce52-d39b540a94b9"
      },
      "execution_count": 16,
      "outputs": [
        {
          "output_type": "stream",
          "name": "stdout",
          "text": [
            "Kiwi is not in the tuple.\n"
          ]
        }
      ]
    },
    {
      "cell_type": "markdown",
      "source": [
        "####Q16. Write a code to create a set with the elements 'a', 'b', 'c' and print it.\n",
        "\n",
        "####Answer:"
      ],
      "metadata": {
        "id": "JQEve9NqgnnJ"
      }
    },
    {
      "cell_type": "code",
      "source": [
        "# Create a set\n",
        "my_set = {'a', 'b', 'c'}\n",
        "\n",
        "# Print the set\n",
        "print(\"Set:\", my_set)"
      ],
      "metadata": {
        "id": "zCadsqZMAu18"
      },
      "execution_count": null,
      "outputs": []
    },
    {
      "cell_type": "markdown",
      "source": [
        "####Q17. Write a code to clear all elements from the set {1, 2, 3, 4, 5}.\n",
        "\n",
        "####Answer:"
      ],
      "metadata": {
        "id": "H_VCYfMTgpUq"
      }
    },
    {
      "cell_type": "code",
      "source": [
        "# Define the set\n",
        "my_set = {1, 2, 3, 4, 5}\n",
        "\n",
        "# Clear all elements\n",
        "my_set.clear()\n",
        "\n",
        "# Print the emptied set\n",
        "print(\"Set after clearing:\", my_set)"
      ],
      "metadata": {
        "colab": {
          "base_uri": "https://localhost:8080/"
        },
        "id": "czkURh34BAik",
        "outputId": "b9d609d6-7c8c-4b0e-b19b-c08b2ac6dd6c"
      },
      "execution_count": 17,
      "outputs": [
        {
          "output_type": "stream",
          "name": "stdout",
          "text": [
            "Set after clearing: set()\n"
          ]
        }
      ]
    },
    {
      "cell_type": "markdown",
      "source": [
        "####Q18. Write a code to remove the element 4 from the set {1, 2, 3, 4}.\n",
        "\n",
        "####Answer:"
      ],
      "metadata": {
        "id": "g5w7IlTegql4"
      }
    },
    {
      "cell_type": "code",
      "source": [
        "# Define the set\n",
        "my_set = {1, 2, 3, 4}\n",
        "\n",
        "# Remove the element 4\n",
        "my_set.remove(4)\n",
        "\n",
        "# Print the updated set\n",
        "print(\"Set after removing 4:\", my_set)"
      ],
      "metadata": {
        "colab": {
          "base_uri": "https://localhost:8080/"
        },
        "id": "VXhy2iM6BQwc",
        "outputId": "5a93b197-2469-4fb7-c9c2-105af673e40a"
      },
      "execution_count": 18,
      "outputs": [
        {
          "output_type": "stream",
          "name": "stdout",
          "text": [
            "Set after removing 4: {1, 2, 3}\n"
          ]
        }
      ]
    },
    {
      "cell_type": "markdown",
      "source": [
        "####Q19. Write a code to find the union of two sets {1, 2, 3} and {3, 4, 5}.\n",
        "\n",
        "####Answer:"
      ],
      "metadata": {
        "id": "dsMz5Tzxgrn4"
      }
    },
    {
      "cell_type": "code",
      "source": [
        "# Define the sets\n",
        "set1 = {1, 2, 3}\n",
        "set2 = {3, 4, 5}\n",
        "\n",
        "# Find the union of the sets\n",
        "union_set = set1.union(set2)\n",
        "\n",
        "# Print the union set\n",
        "print(\"Union of the sets:\", union_set)"
      ],
      "metadata": {
        "colab": {
          "base_uri": "https://localhost:8080/"
        },
        "id": "t9iaNKnOBcfs",
        "outputId": "fde4a2e3-2701-4602-acc9-c252405d2f1e"
      },
      "execution_count": 19,
      "outputs": [
        {
          "output_type": "stream",
          "name": "stdout",
          "text": [
            "Union of the sets: {1, 2, 3, 4, 5}\n"
          ]
        }
      ]
    },
    {
      "cell_type": "markdown",
      "source": [
        "####Q20. Write a code to find the intersection of two sets {1, 2, 3} and {2, 3, 4}.\n",
        "\n",
        "####Answer:"
      ],
      "metadata": {
        "id": "QJTU7sqPgs7x"
      }
    },
    {
      "cell_type": "code",
      "source": [
        "# Define the sets\n",
        "set1 = {1, 2, 3}\n",
        "set2 = {2, 3, 4}\n",
        "\n",
        "# Find the intersection of the sets\n",
        "intersection_set = set1.intersection(set2)\n",
        "\n",
        "# Print the intersection set\n",
        "print(\"Intersection of the sets:\", intersection_set)"
      ],
      "metadata": {
        "colab": {
          "base_uri": "https://localhost:8080/"
        },
        "id": "TEGFZRJgBqaU",
        "outputId": "99d2d33b-6fa8-4c82-854c-9955be77957e"
      },
      "execution_count": 20,
      "outputs": [
        {
          "output_type": "stream",
          "name": "stdout",
          "text": [
            "Intersection of the sets: {2, 3}\n"
          ]
        }
      ]
    },
    {
      "cell_type": "markdown",
      "source": [
        "####Q21. Write a code to create a dictionary with the keys \"name\", \"age\", and \"city\", and print it.\n",
        "\n",
        "####Answer:"
      ],
      "metadata": {
        "id": "6uXNcXRUgwAK"
      }
    },
    {
      "cell_type": "code",
      "source": [
        "# Create the dictionary\n",
        "person = {\n",
        "    \"name\": \"Alice\",\n",
        "    \"age\": 30,\n",
        "    \"city\": \"New York\"\n",
        "}\n",
        "\n",
        "# Print the dictionary\n",
        "print(\"Dictionary:\", person)"
      ],
      "metadata": {
        "colab": {
          "base_uri": "https://localhost:8080/"
        },
        "id": "aSWih22ZByUU",
        "outputId": "681e005e-6788-4eb3-f31f-9e1de05c02a4"
      },
      "execution_count": 21,
      "outputs": [
        {
          "output_type": "stream",
          "name": "stdout",
          "text": [
            "Dictionary: {'name': 'Alice', 'age': 30, 'city': 'New York'}\n"
          ]
        }
      ]
    },
    {
      "cell_type": "markdown",
      "source": [
        "####Q22. Write a code to add a new key-value pair \"country\": \"USA\" to the dictionary {'name': 'John', 'age': 25}.\n",
        "\n",
        "####Answer:"
      ],
      "metadata": {
        "id": "olUY03bQgyl6"
      }
    },
    {
      "cell_type": "code",
      "source": [
        "# Define the dictionary\n",
        "person = {'name': 'John', 'age': 25}\n",
        "\n",
        "# Add the new key-value pair\n",
        "person['country'] = 'USA'\n",
        "\n",
        "# Print the updated dictionary\n",
        "print(\"Updated dictionary:\", person)"
      ],
      "metadata": {
        "colab": {
          "base_uri": "https://localhost:8080/"
        },
        "id": "kcMYQqG_B8Dd",
        "outputId": "da53c17c-4108-469a-885c-bab9c7bbb90d"
      },
      "execution_count": 22,
      "outputs": [
        {
          "output_type": "stream",
          "name": "stdout",
          "text": [
            "Updated dictionary: {'name': 'John', 'age': 25, 'country': 'USA'}\n"
          ]
        }
      ]
    },
    {
      "cell_type": "markdown",
      "source": [
        "####Q23. Write a code to access the value associated with the key \"name\" in the dictionary {'name': 'Alice', 'age': 30}.\n",
        "\n",
        "####Answer:"
      ],
      "metadata": {
        "id": "rVhj8hbngzxh"
      }
    },
    {
      "cell_type": "code",
      "source": [
        "# Define the dictionary\n",
        "person = {'name': 'Alice', 'age': 30}\n",
        "\n",
        "# Access the value for the key 'name'\n",
        "name_value = person['name']\n",
        "\n",
        "# Print the value\n",
        "print(\"Value associated with 'name':\", name_value)"
      ],
      "metadata": {
        "colab": {
          "base_uri": "https://localhost:8080/"
        },
        "id": "bpKWSmIJCM_s",
        "outputId": "86c3e345-9185-41bd-8c44-a46375b81564"
      },
      "execution_count": 23,
      "outputs": [
        {
          "output_type": "stream",
          "name": "stdout",
          "text": [
            "Value associated with 'name': Alice\n"
          ]
        }
      ]
    },
    {
      "cell_type": "markdown",
      "source": [
        "####Q24. Write a code to remove the key \"age\" from the dictionary {'name': 'Bob', 'age': 22, 'city': 'New York'}.\n",
        "\n",
        "####Answer:"
      ],
      "metadata": {
        "id": "aOqp8hPTg06p"
      }
    },
    {
      "cell_type": "code",
      "source": [
        "# Define the dictionary\n",
        "person = {'name': 'Bob', 'age': 22, 'city': 'New York'}\n",
        "\n",
        "# Remove the key 'age'\n",
        "del person['age']\n",
        "\n",
        "# Print the updated dictionary\n",
        "print(\"Dictionary after removing 'age':\", person)"
      ],
      "metadata": {
        "colab": {
          "base_uri": "https://localhost:8080/"
        },
        "id": "xzjSRvrqCYDF",
        "outputId": "87c66942-1c92-4425-8872-346220c4eb12"
      },
      "execution_count": 24,
      "outputs": [
        {
          "output_type": "stream",
          "name": "stdout",
          "text": [
            "Dictionary after removing 'age': {'name': 'Bob', 'city': 'New York'}\n"
          ]
        }
      ]
    },
    {
      "cell_type": "markdown",
      "source": [
        "####Q25. Write a code to check if the key \"city\" exists in the dictionary {'name': 'Alice', 'city': 'Paris'}.\n",
        "\n",
        "####Answer:"
      ],
      "metadata": {
        "id": "2LM3TLp6g2Oj"
      }
    },
    {
      "cell_type": "code",
      "source": [
        "# Define the dictionary\n",
        "person = {'name': 'Alice', 'city': 'Paris'}\n",
        "\n",
        "# Check if 'city' key exists\n",
        "if 'city' in person:\n",
        "    print(\"Key 'city' exists in the dictionary.\")\n",
        "else:\n",
        "    print(\"Key 'city' does not exist in the dictionary.\")"
      ],
      "metadata": {
        "colab": {
          "base_uri": "https://localhost:8080/"
        },
        "id": "WM-66SfbCl9V",
        "outputId": "4f2c802f-cb17-4996-d2a0-1ed1f80bb69e"
      },
      "execution_count": 25,
      "outputs": [
        {
          "output_type": "stream",
          "name": "stdout",
          "text": [
            "Key 'city' exists in the dictionary.\n"
          ]
        }
      ]
    },
    {
      "cell_type": "markdown",
      "source": [
        "####Q26. Write a code to create a list, a tuple, and a dictionary, and print them all.\n",
        "\n",
        "####Answer:"
      ],
      "metadata": {
        "id": "hP5Y0D0Ig3dB"
      }
    },
    {
      "cell_type": "code",
      "source": [
        "# Create a list\n",
        "my_list = [1, 2, 3]\n",
        "\n",
        "# Create a tuple\n",
        "my_tuple = ('a', 'b', 'c')\n",
        "\n",
        "# Create a dictionary\n",
        "my_dict = {'name': 'Alice', 'age': 25}\n",
        "\n",
        "# Print all three\n",
        "print(\"List:\", my_list)\n",
        "print(\"Tuple:\", my_tuple)\n",
        "print(\"Dictionary:\", my_dict)"
      ],
      "metadata": {
        "colab": {
          "base_uri": "https://localhost:8080/"
        },
        "id": "OmxhgXhsCyaV",
        "outputId": "96a5593f-d25d-4d2c-f9f8-18671dbcdf7c"
      },
      "execution_count": 26,
      "outputs": [
        {
          "output_type": "stream",
          "name": "stdout",
          "text": [
            "List: [1, 2, 3]\n",
            "Tuple: ('a', 'b', 'c')\n",
            "Dictionary: {'name': 'Alice', 'age': 25}\n"
          ]
        }
      ]
    },
    {
      "cell_type": "markdown",
      "source": [
        "####Q27. Write a code to create a list of 5 random numbers between 1 and 100, sort it in ascending order, and print the\n",
        "result.(replaced).\n",
        "\n",
        "####Answer:"
      ],
      "metadata": {
        "id": "5HJNkNYpg4jK"
      }
    },
    {
      "cell_type": "code",
      "source": [
        "import random\n",
        "\n",
        "# Create a list of 5 random numbers between 1 and 100\n",
        "random_numbers = [random.randint(1, 100) for _ in range(5)]\n",
        "\n",
        "# Sort the list in ascending order\n",
        "random_numbers.sort()\n",
        "\n",
        "# Print the sorted list\n",
        "print(\"Sorted random numbers:\", random_numbers)"
      ],
      "metadata": {
        "colab": {
          "base_uri": "https://localhost:8080/"
        },
        "id": "OrQCg83YDJ8V",
        "outputId": "0c52a25d-8c97-45ee-df7a-fc3db79c29d6"
      },
      "execution_count": 27,
      "outputs": [
        {
          "output_type": "stream",
          "name": "stdout",
          "text": [
            "Sorted random numbers: [9, 15, 29, 61, 96]\n"
          ]
        }
      ]
    },
    {
      "cell_type": "markdown",
      "source": [
        "####Q28. Write a code to create a list with strings and print the element at the third index.\n",
        "\n",
        "####Answer:"
      ],
      "metadata": {
        "id": "5YaphAtyg5-4"
      }
    },
    {
      "cell_type": "code",
      "source": [
        "# Create a list of strings\n",
        "fruits = [\"apple\", \"banana\", \"cherry\", \"date\", \"elderberry\"]\n",
        "\n",
        "# Access and print the element at the third index\n",
        "print(\"Element at index 3:\", fruits[3])"
      ],
      "metadata": {
        "colab": {
          "base_uri": "https://localhost:8080/"
        },
        "id": "ExlVz10kDPNV",
        "outputId": "ddd218bb-ba11-4086-a1c8-09380b8d0b73"
      },
      "execution_count": 28,
      "outputs": [
        {
          "output_type": "stream",
          "name": "stdout",
          "text": [
            "Element at index 3: date\n"
          ]
        }
      ]
    },
    {
      "cell_type": "markdown",
      "source": [
        "####Q29. Write a code to combine two dictionaries into one and print the result.\n",
        "\n",
        "####Answer:"
      ],
      "metadata": {
        "id": "tYAXw6uhg7qB"
      }
    },
    {
      "cell_type": "code",
      "source": [
        "# Define two dictionaries\n",
        "dict1 = {'name': 'Alice', 'age': 25}\n",
        "dict2 = {'city': 'New York', 'job': 'Engineer'}\n",
        "\n",
        "# Combine the dictionaries\n",
        "combined_dict = {**dict1, **dict2}\n",
        "\n",
        "# Print the combined dictionary\n",
        "print(\"Combined dictionary:\", combined_dict)"
      ],
      "metadata": {
        "colab": {
          "base_uri": "https://localhost:8080/"
        },
        "id": "6s7x_V9bDbOd",
        "outputId": "e600ce18-03ce-4e6b-f52c-cf50f3a012de"
      },
      "execution_count": 29,
      "outputs": [
        {
          "output_type": "stream",
          "name": "stdout",
          "text": [
            "Combined dictionary: {'name': 'Alice', 'age': 25, 'city': 'New York', 'job': 'Engineer'}\n"
          ]
        }
      ]
    },
    {
      "cell_type": "markdown",
      "source": [
        "####Q30. Write a code to convert a list of strings into a set.\n",
        "\n",
        "####Answer:"
      ],
      "metadata": {
        "id": "6dY2ojOdg9Vs"
      }
    },
    {
      "cell_type": "code",
      "source": [
        "# Define a list of strings\n",
        "string_list = [\"apple\", \"banana\", \"apple\", \"cherry\", \"banana\"]\n",
        "\n",
        "# Convert the list to a set\n",
        "string_set = set(string_list)\n",
        "\n",
        "# Print the set\n",
        "print(\"Set:\", string_set)"
      ],
      "metadata": {
        "colab": {
          "base_uri": "https://localhost:8080/"
        },
        "id": "moHH5Kf5DicN",
        "outputId": "4c7e4920-14ff-49fe-ec18-7a0cbb75b7a2"
      },
      "execution_count": 30,
      "outputs": [
        {
          "output_type": "stream",
          "name": "stdout",
          "text": [
            "Set: {'cherry', 'banana', 'apple'}\n"
          ]
        }
      ]
    }
  ]
}